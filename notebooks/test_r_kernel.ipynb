{
 "cells": [
  {
   "cell_type": "markdown",
   "id": "7ae70600",
   "metadata": {},
   "source": [
    "# 隨機實驗與漸近性質\n",
    "\n",
    "在因果推斷的隨機實驗設計中，樣本均值差估計量 $\\hat{\\tau}$ 不僅在有限樣本下是無偏的，  \n",
    "而且在大樣本下具有良好的漸近性質。\n",
    "\n",
    "---\n",
    "\n",
    "## 樣本均值差的無偏性\n",
    "\n",
    "估計量定義：\n",
    "\n",
    "$$\n",
    "\\hat{\\tau} = \\bar{Y}_t - \\bar{Y}_c,\n",
    "$$\n",
    "\n",
    "其中\n",
    "\n",
    "$$\n",
    "\\bar{Y}_t = \\frac{1}{n_t}\\sum_{i:Z_i=1} Y_i, \n",
    "\\quad \n",
    "\\bar{Y}_c = \\frac{1}{n_c}\\sum_{i:Z_i=0} Y_i.\n",
    "$$\n",
    "\n",
    "由隨機分配的性質可得：\n",
    "\n",
    "$$\n",
    "\\mathbb{E}[\\hat{\\tau}] = \\tau = \\mathbb{E}[Y_i(1) - Y_i(0)].\n",
    "$$\n",
    "\n",
    "---\n",
    "\n",
    "## 一致性 (Consistency)\n",
    "\n",
    "由大數法則 (Law of Large Numbers, LLN)，當 $n \\to \\infty$ 時：\n",
    "\n",
    "$$\n",
    "\\bar{Y}_t \\xrightarrow{p} \\mathbb{E}[Y(1)], \n",
    "\\quad\n",
    "\\bar{Y}_c \\xrightarrow{p} \\mathbb{E}[Y(0)].\n",
    "$$\n",
    "\n",
    "因此：\n",
    "\n",
    "$$\n",
    "\\hat{\\tau} \\xrightarrow{p} \\tau.\n",
    "$$\n",
    "\n",
    "這意味著樣本均值差估計量是一致的 (consistent)。\n",
    "\n",
    "---\n",
    "\n",
    "## 漸近常態分布 (Asymptotic Normality)\n",
    "\n",
    "更進一步，由中心極限定理 (Central Limit Theorem, CLT)：\n",
    "\n",
    "$$\n",
    "\\sqrt{n}(\\hat{\\tau} - \\tau) \\;\\;\\xrightarrow{d}\\;\\; \n",
    "\\mathcal{N}(0, \\, \\sigma_t^2/p + \\sigma_c^2/(1-p)),\n",
    "$$\n",
    "\n",
    "其中：\n",
    "- $p = \\lim_{n \\to \\infty} \\frac{n_t}{n}$ 為處理組比例，  \n",
    "- $\\sigma_t^2 = \\text{Var}[Y(1)]$,  \n",
    "- $\\sigma_c^2 = \\text{Var}[Y(0)]$。  \n",
    "\n",
    "這顯示出估計量在大樣本下服從常態分布，可用於信賴區間 (confidence intervals) 與假設檢定 (hypothesis testing)。\n",
    "\n",
    "---\n",
    "\n",
    "## R 語言模擬：漸近常態性\n",
    "\n"
   ]
  },
  {
   "cell_type": "code",
   "execution_count": 1,
   "id": "c2492416",
   "metadata": {
    "vscode": {
     "languageId": "r"
    }
   },
   "outputs": [
    {
     "name": "stdout",
     "output_type": "stream",
     "text": [
      "估計的 ATE = 5.308379 \n",
      "95% 信賴區間 = [ 4.756899 , 5.859858 ]\n"
     ]
    }
   ],
   "source": [
    "set.seed(123)\n",
    "\n",
    "n <- 5000\n",
    "Y0 <- rnorm(n, mean = 50, sd = 10)\n",
    "Y1 <- Y0 + 5\n",
    "Z <- rbinom(n, 1, 0.5)\n",
    "Y <- Z*Y1 + (1-Z)*Y0\n",
    "\n",
    "Y_t <- mean(Y[Z==1])\n",
    "Y_c <- mean(Y[Z==0])\n",
    "tau_hat <- Y_t - Y_c\n",
    "\n",
    "# 樣本標準誤\n",
    "se <- sqrt(var(Y[Z==1])/sum(Z==1) + var(Y[Z==0])/sum(Z==0))\n",
    "\n",
    "cat(\"估計的 ATE =\", tau_hat, \"\\n\")\n",
    "cat(\"95% 信賴區間 = [\", tau_hat - 1.96*se, \",\", tau_hat + 1.96*se, \"]\\n\")"
   ]
  }
 ],
 "metadata": {
  "kernelspec": {
   "display_name": "R",
   "language": "R",
   "name": "ir"
  },
  "language_info": {
   "codemirror_mode": "r",
   "file_extension": ".r",
   "mimetype": "text/x-r-source",
   "name": "R",
   "pygments_lexer": "r",
   "version": "4.3.1"
  }
 },
 "nbformat": 4,
 "nbformat_minor": 5
}
